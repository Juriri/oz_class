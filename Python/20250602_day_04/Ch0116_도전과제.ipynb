{
 "cells": [
  {
   "cell_type": "markdown",
   "metadata": {
    "id": "BX7SgOeWu86I"
   },
   "source": [
    "안녕하세요. 수강생 여러분~! \n",
    "\n",
    "다시 돌아온 조금 더 성장할 기 ! 회 ! \n",
    "\n",
    "Chapter01 ~ 16의 수업 내용을 바탕으로 아래 문제를 풀어주시면 됩니다 !\n",
    "\n",
    "지금까지 잘 해오셨으니까, 총 복습한다고 생각하시고 한번 도전해보세요 !!!\n",
    "\n",
    "차근 차근 문제와 요구사항을 읽고 작성해보세요.\n",
    "\n",
    "<br>\n",
    "\n",
    "\n",
    "[**답변 입력 방법**]\n",
    "\n",
    "문제 아래에 있는 코드 입력창에 정답코드를 작성하신 후  __▷ 버튼을 클릭해 코드를 실행__ 해보세요<br>"
   ]
  },
  {
   "cell_type": "markdown",
   "metadata": {},
   "source": [
    "---"
   ]
  },
  {
   "cell_type": "markdown",
   "metadata": {},
   "source": [
    "#### 프로젝트: 붕어빵 자동 판매 시스템\n",
    "\n",
    "\n",
    "당신은 붕어빵 가게의 주인입니다. \n",
    "\n",
    "손님들이 붕어빵을 주문하면 이를 자동으로 처리하고, 재고를 관리하는 시스템을 만들고자 합니다. \n",
    "\n",
    "또한, 관리자 모드를 통해 재고를 추가할 수 있는 기능을 구현해야 합니다.\n"
   ]
  },
  {
   "cell_type": "markdown",
   "metadata": {},
   "source": [
    "__[문제 1: 붕어빵 재고 확인]__\n",
    "\n",
    "붕어빵 가게의 현재 재고를 확인하는 기능을 구현하세요.\n",
    "\n",
    "요구사항:\n",
    "- 현재 붕어빵의 재고를 딕셔너리로 관리합니다.\n",
    "- 딕셔너리에는 붕어빵의 종류와 각각의 재고 개수가 저장됩니다.\n",
    "- 현재 재고를 화면에 출력하세요.\n",
    "\n",
    "붕어빵 재고\n",
    "- 팥붕어빵 : 10개\n",
    "- 슈크림붕어빵 : 8개\n",
    "- 초코붕어빵 : 5개"
   ]
  },
  {
   "cell_type": "code",
   "execution_count": null,
   "metadata": {},
   "outputs": [
    {
     "name": "stdout",
     "output_type": "stream",
     "text": [
      "팥붕어빵: 10개\n",
      "슈크림붕어빵: 8개\n",
      "초코붕어빵: 5개\n"
     ]
    }
   ],
   "source": [
    "cake_stocks = {\n",
    "    \"팥\": 10,\n",
    "    \"슈크림\": 8,\n",
    "    \"초코\": 5,\n",
    "}\n",
    "\n",
    "for cake, quantity in cake_stocks.items():\n",
    "    print(f\"{cake}붕어빵: {quantity}개\")"
   ]
  },
  {
   "cell_type": "markdown",
   "metadata": {},
   "source": [
    "__[문제 2: 붕어빵 주문 받기]__\n",
    "\n",
    "손님이 주문한 붕어빵의 종류와 개수를 입력받는 기능을 구현하세요.\n",
    "\n",
    "요구사항:\n",
    "- 손님이 주문할 붕어빵의 종류와 개수를 입력받습니다.\n",
    "- 주문 내용을 딕셔너리에 저장하세요.\n",
    "- 주문 내역을 출력해주세요."
   ]
  },
  {
   "cell_type": "code",
   "execution_count": 13,
   "metadata": {},
   "outputs": [
    {
     "name": "stdout",
     "output_type": "stream",
     "text": [
      "팥붕어빵 5개를 주문하셨습니다.\n"
     ]
    }
   ],
   "source": [
    "cake_orders = {\n",
    "    \"팥\": 0,\n",
    "    \"슈크림\": 0,\n",
    "    \"초코\": 0,\n",
    "}\n",
    "order = input(\"주문할 붕어빵과 개수를 입력하세요 (예: 팥 2): \")\n",
    "cake, quantity = order.split()\n",
    "\n",
    "if cake in cake_orders:\n",
    "    cake_orders[cake] += int(quantity)\n",
    "print(f\"{cake}붕어빵 {quantity}개를 주문하셨습니다.\")"
   ]
  },
  {
   "cell_type": "markdown",
   "metadata": {},
   "source": [
    "__[문제 3: 붕어빵 주문 처리]__\n",
    "\n",
    "손님의 주문을 처리하여 붕어빵 재고를 업데이트하는 기능을 구현하세요.\n",
    "\n",
    "요구사항:\n",
    "- 손님의 주문 내용을 기반으로 재고를 업데이트합니다.\n",
    "- 재고가 부족할 경우, 손님에게 재고 부족을 알리고 재고를 감소시키지 않습니다.\n",
    "- 재고가 충분할 경우, 주문한 만큼 재고를 감소시키고 판매를 완료합니다.\n",
    "- 판매가 완료된 경우 판매된 붕어빵 맛과 개수를 출력하세요."
   ]
  },
  {
   "cell_type": "code",
   "execution_count": 15,
   "metadata": {},
   "outputs": [
    {
     "name": "stdout",
     "output_type": "stream",
     "text": [
      "팥붕어빵 5개 판매 완료입니다. 현재 재고: 5개\n"
     ]
    }
   ],
   "source": [
    "cake_stocks = {\n",
    "    \"팥\": 10,\n",
    "    \"슈크림\": 8,\n",
    "    \"초코\": 5,\n",
    "}\n",
    "\n",
    "if cake in cake_stocks:\n",
    "    if cake_stocks[cake] >= cake_orders[cake]:\n",
    "        cake_stocks[cake] -= cake_orders[cake]\n",
    "        print(f\"{cake}붕어빵 {cake_orders[cake]}개 판매 완료입니다. 현재 재고: {cake_stocks[cake]}개\")\n",
    "    else:\n",
    "        print(f\"{cake}붕어빵이 부족합니다. 현재 재고: {cake_stocks[cake]}개\")"
   ]
  },
  {
   "cell_type": "markdown",
   "metadata": {},
   "source": [
    "__[문제 4: 여러 손님 주문 처리]__\n",
    "\n",
    "여러 손님들의 주문을 처리할 수 있도록 시스템을 확장하세요.\n",
    "\n",
    "요구사항:\n",
    "- 손님이 \"종료\"를 입력할 때까지 주문을 계속 받습니다.\n",
    "- 각 주문마다 재고를 업데이트합니다.\n",
    "- 현재 재고를 화면에 출력합니다."
   ]
  },
  {
   "cell_type": "code",
   "execution_count": null,
   "metadata": {},
   "outputs": [
    {
     "name": "stdout",
     "output_type": "stream",
     "text": [
      "팥붕어빵이 부족합니다. 현재 재고: 0개\n",
      "슈크림붕어빵 2개 판매 완료입니다. 현재 재고: 2개\n",
      "슈크림붕어빵 2개 판매 완료입니다. 현재 재고: 0개\n",
      "슈크림붕어빵이 부족합니다. 현재 재고: 0개\n",
      "초코붕어빵이 부족합니다. 현재 재고: 0개\n",
      "주문을 종료합니다.\n"
     ]
    }
   ],
   "source": [
    "while True:\n",
    "  user_input = input(\"주문할 붕어빵과 개수를 입력하세요 (예: 팥 2): \")\n",
    "  if \"종료\" in user_input:\n",
    "    print(\"주문을 종료합니다.\")\n",
    "    break\n",
    "  \n",
    "  cake_type, order_quantity = user_input.split()\n",
    "  quantity = int(order_quantity)\n",
    "\n",
    "  if cake_type in cake_stocks:\n",
    "    if cake_stocks[cake_type] >= quantity:\n",
    "        cake_stocks[cake_type] -= quantity\n",
    "        print(f\"{cake_type}붕어빵 {quantity}개 판매 완료입니다. 현재 재고: {cake_stocks[cake_type]}개\")\n",
    "    else:\n",
    "        print(f\"{cake_type}붕어빵이 부족합니다. 현재 재고: {cake_stocks[cake_type]}개\")\n",
    "  else:\n",
    "    print(f\"{cake_type}붕어빵은 판매하지 않습니다. 다시 주문해주세요.\")"
   ]
  },
  {
   "cell_type": "markdown",
   "metadata": {},
   "source": [
    "__[문제 5: 관리자 모드]__\n",
    "\n",
    "관리자 모드를 통해 붕어빵 재고를 추가할 수 있는 기능을 구현하세요.\n",
    "\n",
    "요구사항:\n",
    "- 관리자는 특정 붕어빵의 재고를 추가할 수 있습니다.\n",
    "- \"종료\"를 입력하면 관리자 모드를 종료합니다.\n",
    "- 추가된 재고를 업데이트하고 현재 재고를 화면에 출력합니다."
   ]
  },
  {
   "cell_type": "code",
   "execution_count": 20,
   "metadata": {},
   "outputs": [
    {
     "name": "stdout",
     "output_type": "stream",
     "text": [
      "팥붕어빵 11개 추가 완료입니다. 현재 재고: 11개\n",
      "슈크림붕어빵 22개 추가 완료입니다. 현재 재고: 22개\n",
      "관리자 모드를 종료합니다.\n"
     ]
    }
   ],
   "source": [
    "while True:\n",
    "  admin_input = input(\"추가할 붕어빵과 재고 개수를 입력하세요 (예: 팥 2): \")\n",
    "  if \"종료\" in admin_input:\n",
    "    print(\"관리자 모드를 종료합니다.\")\n",
    "    break\n",
    "  \n",
    "  cake_type, stock_quantity = admin_input.split()\n",
    "  quantity = int(stock_quantity)\n",
    "\n",
    "  if cake_type in cake_stocks:\n",
    "    cake_stocks[cake_type] += quantity\n",
    "    print(f\"{cake_type}붕어빵 {quantity}개 추가 완료입니다. 현재 재고: {cake_stocks[cake_type]}개\")\n",
    "  else:\n",
    "    print(f\"{cake_type}붕어빵은 판매하지 않습니다. 다시 입력해주세요.\")"
   ]
  },
  {
   "cell_type": "markdown",
   "metadata": {},
   "source": [
    "__[문제 6: 매출 확인]__\n",
    "\n",
    "붕어빵 판매 가격을 설정하고, 판매한 붕어빵의 매출을 계산하세요.\n",
    "\n",
    "요구사항:\n",
    "- 각 붕어빵의 가격을 딕셔너리로 관리합니다.\n",
    "- 판매된 붕어빵의 종류와 개수를 딕셔너리로 관리합니다.\n",
    "- 총 매출을 계산하여 출력합니다.\n",
    "\n",
    "초기 설정:\n",
    "- 가격\n",
    "    - \"팥붕어빵\": 1000\n",
    "    - \"슈크림붕어빵\": 1200\n",
    "    - \"초코붕어빵\": 1500\n",
    "\n",
    "- 판매 개수\n",
    "    - \"팥붕어빵\": 0\n",
    "    - \"슈크림붕어빵\": 0\n",
    "    - \"초코붕어빵\": 0"
   ]
  },
  {
   "cell_type": "code",
   "execution_count": 21,
   "metadata": {},
   "outputs": [
    {
     "name": "stdout",
     "output_type": "stream",
     "text": [
      "붕어빵 판매 총 매출: 18400원\n"
     ]
    }
   ],
   "source": [
    "cakes = {\n",
    "    \"팥\": {\"selling\": 10, \"price\": 1000},\n",
    "    \"슈크림\": {\"selling\": 2, \"price\": 1200},\n",
    "    \"초코\": {\"selling\": 4, \"price\": 1500},\n",
    "}\n",
    "sales = 0\n",
    "\n",
    "for cake in cakes:\n",
    "    sales += cakes[cake][\"selling\"] * cakes[cake][\"price\"]\n",
    "print(f\"붕어빵 판매 총 매출: {sales}원\")"
   ]
  }
 ],
 "metadata": {
  "colab": {
   "authorship_tag": "ABX9TyMLQjyUmELFyKkx1AyovOFZ",
   "provenance": []
  },
  "kernelspec": {
   "display_name": "Python 3",
   "name": "python3"
  },
  "language_info": {
   "codemirror_mode": {
    "name": "ipython",
    "version": 3
   },
   "file_extension": ".py",
   "mimetype": "text/x-python",
   "name": "python",
   "nbconvert_exporter": "python",
   "pygments_lexer": "ipython3",
   "version": "3.9.13"
  }
 },
 "nbformat": 4,
 "nbformat_minor": 0
}
